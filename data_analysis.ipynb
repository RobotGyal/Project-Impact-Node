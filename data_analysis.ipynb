{
 "cells": [
  {
   "cell_type": "markdown",
   "metadata": {},
   "source": [
    "# Analyzing Meteorite Dataset "
   ]
  },
  {
   "cell_type": "code",
   "execution_count": null,
   "metadata": {},
   "outputs": [],
   "source": [
    "# imports\n",
    "import numpy as np\n",
    "import pandas as pd\n",
    "import matplotlib.pyplot as plt\n",
    "import seaborn as sns"
   ]
  },
  {
   "cell_type": "code",
   "execution_count": null,
   "metadata": {},
   "outputs": [],
   "source": [
    "meteor = pd.read_csv('meteorite-landings.csv')\n",
    "meteor = pd.DataFrame(meteor)\n",
    "\n",
    "\n",
    "print(meteor)\n",
    "print(\"\\n\\n\\n\")\n",
    "\n",
    "# print(meteor.describe())\n",
    "meteor.info()\n",
    "print(\"\\n\\n\\n\")\n",
    "\n",
    "#list all column names\n",
    "print(list(meteor.columns))\n",
    "\n",
    "print(\"\\n\\n\\n\")\n",
    "# print(meteor['fall'])\n",
    "\n",
    "print(np.max(meteor['year']))\n",
    "print(np.min(meteor['year']))\n",
    "print(np.mean(meteor['year']))"
   ]
  },
  {
   "cell_type": "code",
   "execution_count": null,
   "metadata": {},
   "outputs": [],
   "source": [
    "# # visualizing mass\n",
    "\n",
    "# # create a figure and axis\n",
    "# fig, ax = plt.subplots()\n",
    "\n",
    "# # scatter the sepal_length against the sepal_width\n",
    "# ax.hist(meteor['mass'])\n",
    "# # set a title and labels\n",
    "# ax.set_title('Meteor')\n",
    "# ax.set_xlabel('mass')\n",
    "# ax.set_ylabel('fall')\n",
    "\n",
    "sns.countplot(meteor['mass'])"
   ]
  },
  {
   "cell_type": "code",
   "execution_count": null,
   "metadata": {},
   "outputs": [],
   "source": []
  }
 ],
 "metadata": {
  "kernelspec": {
   "display_name": "Python 3",
   "language": "python",
   "name": "python3"
  },
  "language_info": {
   "codemirror_mode": {
    "name": "ipython",
    "version": 3
   },
   "file_extension": ".py",
   "mimetype": "text/x-python",
   "name": "python",
   "nbconvert_exporter": "python",
   "pygments_lexer": "ipython3",
   "version": "3.7.6"
  }
 },
 "nbformat": 4,
 "nbformat_minor": 4
}
