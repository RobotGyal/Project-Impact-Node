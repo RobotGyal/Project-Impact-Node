{
 "cells": [
  {
   "cell_type": "markdown",
   "metadata": {},
   "source": [
    "# Analyzing Meteorite Dataset "
   ]
  },
  {
   "cell_type": "code",
   "execution_count": 46,
   "metadata": {},
   "outputs": [],
   "source": [
    "# imports\n",
    "import numpy as np\n",
    "import pandas as pd\n",
    "import matplotlib.pyplot as plt\n",
    "import seaborn as sns\n",
    "import timeit   # for testing code runtime\n",
    "from statistics import mode "
   ]
  },
  {
   "cell_type": "code",
   "execution_count": 47,
   "metadata": {},
   "outputs": [
    {
     "name": "stdout",
     "output_type": "stream",
     "text": [
      "             name     id nametype              recclass      mass   fall  \\\n",
      "0          Aachen      1    Valid                    L5      21.0   Fell   \n",
      "1          Aarhus      2    Valid                    H6     720.0   Fell   \n",
      "2            Abee      6    Valid                   EH4  107000.0   Fell   \n",
      "3        Acapulco     10    Valid           Acapulcoite    1914.0   Fell   \n",
      "4         Achiras    370    Valid                    L6     780.0   Fell   \n",
      "...           ...    ...      ...                   ...       ...    ...   \n",
      "45711  Zillah 002  31356    Valid               Eucrite     172.0  Found   \n",
      "45712      Zinder  30409    Valid  Pallasite, ungrouped      46.0  Found   \n",
      "45713        Zlin  30410    Valid                    H4       3.3  Found   \n",
      "45714   Zubkovsky  31357    Valid                    L6    2167.0  Found   \n",
      "45715  Zulu Queen  30414    Valid                  L3.7     200.0  Found   \n",
      "\n",
      "         year    reclat    reclong               GeoLocation  \n",
      "0      1880.0  50.77500    6.08333     (50.775000, 6.083330)  \n",
      "1      1951.0  56.18333   10.23333    (56.183330, 10.233330)  \n",
      "2      1952.0  54.21667 -113.00000  (54.216670, -113.000000)  \n",
      "3      1976.0  16.88333  -99.90000   (16.883330, -99.900000)  \n",
      "4      1902.0 -33.16667  -64.95000  (-33.166670, -64.950000)  \n",
      "...       ...       ...        ...                       ...  \n",
      "45711  1990.0  29.03700   17.01850    (29.037000, 17.018500)  \n",
      "45712  1999.0  13.78333    8.96667     (13.783330, 8.966670)  \n",
      "45713  1939.0  49.25000   17.66667    (49.250000, 17.666670)  \n",
      "45714  2003.0  49.78917   41.50460    (49.789170, 41.504600)  \n",
      "45715  1976.0  33.98333 -115.68333  (33.983330, -115.683330)  \n",
      "\n",
      "[45716 rows x 10 columns]\n",
      "\n",
      "\n",
      "\n",
      "\n",
      "<class 'pandas.core.frame.DataFrame'>\n",
      "RangeIndex: 45716 entries, 0 to 45715\n",
      "Data columns (total 10 columns):\n",
      " #   Column       Non-Null Count  Dtype  \n",
      "---  ------       --------------  -----  \n",
      " 0   name         45716 non-null  object \n",
      " 1   id           45716 non-null  int64  \n",
      " 2   nametype     45716 non-null  object \n",
      " 3   recclass     45716 non-null  object \n",
      " 4   mass         45585 non-null  float64\n",
      " 5   fall         45716 non-null  object \n",
      " 6   year         45428 non-null  float64\n",
      " 7   reclat       38401 non-null  float64\n",
      " 8   reclong      38401 non-null  float64\n",
      " 9   GeoLocation  38401 non-null  object \n",
      "dtypes: float64(4), int64(1), object(5)\n",
      "memory usage: 3.5+ MB\n",
      "\n",
      "\n",
      "\n",
      "\n",
      "['name', 'id', 'nametype', 'recclass', 'mass', 'fall', 'year', 'reclat', 'reclong', 'GeoLocation']\n",
      "\n",
      "\n",
      "\n",
      "\n",
      "2501.0\n",
      "301.0\n",
      "2003.0\n"
     ]
    }
   ],
   "source": [
    "meteor = pd.read_csv('meteorite-landings.csv')\n",
    "meteor = pd.DataFrame(meteor)\n",
    "\n",
    "\n",
    "print(meteor)\n",
    "print(\"\\n\\n\\n\")\n",
    "\n",
    "# print(meteor.describe())\n",
    "meteor.info()\n",
    "print(\"\\n\\n\\n\")\n",
    "\n",
    "#list all column names\n",
    "print(list(meteor.columns))\n",
    "\n",
    "print(\"\\n\\n\\n\")\n",
    "# print(meteor['fall'])\n",
    "\n",
    "print(np.max(meteor['year']))\n",
    "print(np.min(meteor['year']))\n",
    "print(mode(meteor['year']))"
   ]
  },
  {
   "cell_type": "code",
   "execution_count": 12,
   "metadata": {},
   "outputs": [
    {
     "name": "stdout",
     "output_type": "stream",
     "text": [
      "Maximum mass:  60000000.0\n",
      "Minimum mass:  0.0\n",
      "Mean mass:  13278.078548601516\n"
     ]
    },
    {
     "data": {
      "text/plain": [
       "Text(0, 0.5, 'year')"
      ]
     },
     "execution_count": 12,
     "metadata": {},
     "output_type": "execute_result"
    },
    {
     "data": {
      "image/png": "[encoded data removed]",
      "text/plain": [
       "<Figure size 432x288 with 1 Axes>"
      ]
     },
     "metadata": {
      "needs_background": "light"
     },
     "output_type": "display_data"
    }
   ],
   "source": [
    "# # visualizing mass\n",
    "\n",
    "print(\"Maximum mass: \", np.max(meteor['mass']))\n",
    "print(\"Minimum mass: \", np.min(meteor['mass']))\n",
    "print(\"Mean mass: \",np.mean(meteor['mass']))\n",
    "\n",
    "\n",
    "# create a figure and axis \n",
    "fig, ax = plt.subplots() \n",
    "\n",
    "\n",
    "# scatter the sepal_length against the sepal_width\n",
    "ax.scatter(meteor['mass'], meteor['year'])\n",
    "# set a title and labels\n",
    "ax.set_title('Meteor Dataset (mass vs year)')\n",
    "ax.set_xlabel('mass')\n",
    "ax.set_ylabel('year')"
   ]
  },
  {
   "cell_type": "code",
   "execution_count": 13,
   "metadata": {},
   "outputs": [
    {
     "name": "stdout",
     "output_type": "stream",
     "text": [
      "0.018592368270001314\n"
     ]
    }
   ],
   "source": [
    "# Testing a time analysis function\n",
    "import timeit\n",
    "code_to_test = \"\"\"\n",
    "a = range(100000)\n",
    "b = []\n",
    "for i in a:\n",
    "    b.append(i*2)\n",
    "\"\"\"\n",
    "elapsed_time = timeit.timeit(code_to_test, number=100)/100\n",
    "print(elapsed_time)"
   ]
  },
  {
   "cell_type": "code",
   "execution_count": null,
   "metadata": {},
   "outputs": [],
   "source": [
    "\n",
    "bar_chart_time=\"\"\"\n",
    "# create a figure and axis \n",
    "fig, ax = plt.subplots() \n",
    "\n",
    "\n",
    "# scatter the sepal_length against the sepal_width\n",
    "ax.scatter(meteor['mass'], meteor['year'])\n",
    "# set a title and labels\n",
    "ax.set_title('Meteor Dataset (mass vs year)')\n",
    "ax.set_xlabel('mass')\n",
    "ax.set_ylabel('year')\n",
    "\"\"\""
   ]
  },
  {
   "cell_type": "code",
   "execution_count": 7,
   "metadata": {},
   "outputs": [],
   "source": [
    "\n",
    "# SAVE AS CSV FOR USE IN API DATABASE\n",
    "# api_meteor_data.to_csv('api_meteor_data.csv')"
   ]
  },
  {
   "cell_type": "code",
   "execution_count": 14,
   "metadata": {},
   "outputs": [
    {
     "name": "stdout",
     "output_type": "stream",
     "text": [
      "                              name     id nametype         recclass  \\\n",
      "8970          Dominion Range 10016  56804    Valid              LL5   \n",
      "44591                Yamato 982361  38983    Valid               L6   \n",
      "7403                   Dhofar 1611  52634    Valid               H5   \n",
      "45100                Yamato 983376  39998    Valid               L6   \n",
      "42007                Yamato 793363  28712    Valid               H6   \n",
      "7084                    Dhofar 110   6895    Valid               H6   \n",
      "35257  Queen Alexandra Range 99656  22102    Valid              LL5   \n",
      "489                   Klein-Wenden  12332    Valid               H6   \n",
      "288                       Erxleben  10049    Valid               H6   \n",
      "28868        Northwest Africa 4675  45614    Valid               H5   \n",
      "6871           Derrick Peak A78005   6681    Valid       Iron, IIAB   \n",
      "27582        Northwest Africa 2544  31107    Valid           L(LL)3   \n",
      "731           Olmedilla de Alarcón  18015    Valid               H5   \n",
      "26349                 Nazareth (c)  16930    Valid               H5   \n",
      "16171        Hammadah al Hamra 201  11684    Valid               H6   \n",
      "20349            Lewis Cliff 86447  13377    Valid               L6   \n",
      "7320                   Dhofar 1521  52394    Valid               L6   \n",
      "36289                     Romashki  52890    Valid               L6   \n",
      "37966        Thiel Mountains 91711  23939    Valid               L4   \n",
      "7726                    Dhofar 356   7139    Valid               H6   \n",
      "24136           Miller Range 03370  36426    Valid               H5   \n",
      "9222                  El Djouf 006   7801    Valid               L6   \n",
      "19108        Larkman Nunatak 06264  47401    Valid               L5   \n",
      "38046                   Tishomingo  24010    Valid  Iron, ungrouped   \n",
      "5640           Cumulus Hills 04029  45997    Valid               H6   \n",
      "16793        Jiddat al Harasis 343  45867    Valid              LL6   \n",
      "4322                  Asuka 881339   4048    Valid               H5   \n",
      "3414         Arabian Peninsula 001  44870    Valid        Diogenite   \n",
      "14367       Grove Mountains 022361  47958    Valid               L6   \n",
      "12323      Frontier Mountain 90226  10615    Valid             H5/6   \n",
      "4521                  Asuka 881613   4322    Valid               H3   \n",
      "42477                 Yamato 82031  29225    Valid               H4   \n",
      "6313               Dar al Gani 549   6097    Valid               L5   \n",
      "27668        Northwest Africa 2644  31133    Valid        Howardite   \n",
      "6267               Dar al Gani 503   6051    Valid               L6   \n",
      "16918        Jiddat al Harasis 468  48619    Valid               L6   \n",
      "4001                  Asuka 880974   3683    Valid               H5   \n",
      "26868        Northwest Africa 1685  32385    Valid              LL4   \n",
      "35147  Queen Alexandra Range 99546  21992    Valid              LL6   \n",
      "21881        MacAlpine Hills 02560  14864    Valid               H5   \n",
      "38424                 Yamato 74006  24384    Valid               H6   \n",
      "10957       Elephant Moraine 90951   9360    Valid               L6   \n",
      "20771            Lewis Cliff 88045  13799    Valid               H6   \n",
      "29623        Northwest Africa 5939  50825    Valid             H3-6   \n",
      "31039               Österplana 027  44827   Relict        Relict OC   \n",
      "6191               Dar al Gani 426   5974    Valid             H4/5   \n",
      "27178        Northwest Africa 2085  30861    Valid       L-imp melt   \n",
      "6119               Dar al Gani 354   5902    Valid               H3   \n",
      "16927        Jiddat al Harasis 477  48628    Valid             H4/5   \n",
      "2844            Allan Hills A78119   1734    Valid            LL3.5   \n",
      "\n",
      "            mass   fall    year     reclat     reclong  \\\n",
      "8970       58.70  Found  2010.0   0.000000    0.000000   \n",
      "44591       9.12  Found  1998.0   0.000000    0.000000   \n",
      "7403     1124.00  Found  2003.0  19.133330   54.652670   \n",
      "45100       5.51  Found  1998.0   0.000000    0.000000   \n",
      "42007       1.15  Found  1979.0 -71.500000   35.666670   \n",
      "7084     1287.00  Found  2000.0  18.436830   54.454830   \n",
      "35257       3.40  Found  1999.0 -84.000000  168.000000   \n",
      "489      3250.00   Fell  1843.0  51.600000   10.800000   \n",
      "288      2250.00   Fell  1812.0  52.216670   11.250000   \n",
      "28868     789.00  Found  2007.0        NaN         NaN   \n",
      "6871    18600.00  Found  1978.0 -80.066670  156.383330   \n",
      "27582      15.00  Found  2003.0        NaN         NaN   \n",
      "731     40000.00   Fell  1929.0  39.566670   -2.100000   \n",
      "26349     222.00  Found  1970.0  34.583330 -102.083330   \n",
      "16171     127.00  Found  1997.0  28.621330   13.258830   \n",
      "20349       9.50  Found  1986.0 -84.244450  161.406310   \n",
      "7320     1940.00  Found  2008.0  18.401670   54.547170   \n",
      "36289    3400.00  Found  2009.0  50.285330   46.699670   \n",
      "37966     276.30  Found  1991.0 -85.157770  -94.571300   \n",
      "7726     1372.00  Found  2000.0  18.637680   54.731320   \n",
      "24136     169.80  Found  2003.0        NaN         NaN   \n",
      "9222     1072.00  Found  1989.0  23.666670   -1.583330   \n",
      "19108    2910.00  Found  2006.0        NaN         NaN   \n",
      "38046  260000.00  Found  1965.0  34.250000  -96.683330   \n",
      "5640       96.00  Found  2004.0        NaN         NaN   \n",
      "16793     528.40  Found  2006.0  19.751750   56.579850   \n",
      "4322       21.25  Found  1988.0 -72.000000   26.000000   \n",
      "3414      145.00  Found  2006.0        NaN         NaN   \n",
      "14367       0.66  Found  2003.0 -72.777778   75.320556   \n",
      "12323      24.79  Found  1990.0 -72.955830  160.438330   \n",
      "4521      545.71  Found  1988.0 -72.000000   26.000000   \n",
      "42477       5.14  Found  1982.0 -71.500000   35.666670   \n",
      "6313       50.00  Found  1997.0  27.269500   16.137830   \n",
      "27668     216.00  Found  2004.0        NaN         NaN   \n",
      "6267      680.00  Found  1997.0  27.252500   16.069670   \n",
      "16918    1064.10  Found  2007.0  19.814400   56.474220   \n",
      "4001       14.73  Found  1988.0 -72.000000   26.000000   \n",
      "26868   11560.00  Found  2002.0   0.000000    0.000000   \n",
      "35147       4.70  Found  1999.0 -84.000000  168.000000   \n",
      "21881       3.95  Found  2002.0        NaN         NaN   \n",
      "38424      35.80  Found  1974.0 -71.500000   35.666670   \n",
      "10957      52.70  Found  1990.0 -76.268230  156.439620   \n",
      "20771       3.60  Found  1988.0 -84.245680  161.444700   \n",
      "29623     297.00  Found  2004.0   0.000000    0.000000   \n",
      "31039        NaN  Found  2000.0  58.583330   13.433330   \n",
      "6191      206.00  Found  1998.0  27.379330   16.458170   \n",
      "27178    2700.00  Found  2003.0        NaN         NaN   \n",
      "6119       82.00  Found  1997.0  27.617170   15.966330   \n",
      "16927     493.80  Found  2007.0  19.873450   56.385380   \n",
      "2844      102.60  Found  1978.0 -76.716670  159.666670   \n",
      "\n",
      "                    GeoLocation  \n",
      "8970       (0.000000, 0.000000)  \n",
      "44591      (0.000000, 0.000000)  \n",
      "7403     (19.133330, 54.652670)  \n",
      "45100      (0.000000, 0.000000)  \n",
      "42007   (-71.500000, 35.666670)  \n",
      "7084     (18.436830, 54.454830)  \n",
      "35257  (-84.000000, 168.000000)  \n",
      "489      (51.600000, 10.800000)  \n",
      "288      (52.216670, 11.250000)  \n",
      "28868                       NaN  \n",
      "6871   (-80.066670, 156.383330)  \n",
      "27582                       NaN  \n",
      "731      (39.566670, -2.100000)  \n",
      "26349  (34.583330, -102.083330)  \n",
      "16171    (28.621330, 13.258830)  \n",
      "20349  (-84.244450, 161.406310)  \n",
      "7320     (18.401670, 54.547170)  \n",
      "36289    (50.285330, 46.699670)  \n",
      "37966  (-85.157770, -94.571300)  \n",
      "7726     (18.637680, 54.731320)  \n",
      "24136                       NaN  \n",
      "9222     (23.666670, -1.583330)  \n",
      "19108                       NaN  \n",
      "38046   (34.250000, -96.683330)  \n",
      "5640                        NaN  \n",
      "16793    (19.751750, 56.579850)  \n",
      "4322    (-72.000000, 26.000000)  \n",
      "3414                        NaN  \n",
      "14367   (-72.777778, 75.320556)  \n",
      "12323  (-72.955830, 160.438330)  \n",
      "4521    (-72.000000, 26.000000)  \n",
      "42477   (-71.500000, 35.666670)  \n",
      "6313     (27.269500, 16.137830)  \n",
      "27668                       NaN  \n",
      "6267     (27.252500, 16.069670)  \n",
      "16918    (19.814400, 56.474220)  \n",
      "4001    (-72.000000, 26.000000)  \n",
      "26868      (0.000000, 0.000000)  \n",
      "35147  (-84.000000, 168.000000)  \n",
      "21881                       NaN  \n",
      "38424   (-71.500000, 35.666670)  \n",
      "10957  (-76.268230, 156.439620)  \n",
      "20771  (-84.245680, 161.444700)  \n",
      "29623      (0.000000, 0.000000)  \n",
      "31039    (58.583330, 13.433330)  \n",
      "6191     (27.379330, 16.458170)  \n",
      "27178                       NaN  \n",
      "6119     (27.617170, 15.966330)  \n",
      "16927    (19.873450, 56.385380)  \n",
      "2844   (-76.716670, 159.666670)  \n",
      "<class 'pandas.core.frame.DataFrame'>\n"
     ]
    }
   ],
   "source": [
    "   \n",
    "# randomly selects 50 data points and puts them in data frame\n",
    "api_meteor_data = meteor.loc[np.random.randint(len(meteor), size = 50)]\n",
    "print(api_meteor_data)\n",
    "print(type(api_meteor_data))"
   ]
  },
  {
   "cell_type": "code",
   "execution_count": 18,
   "metadata": {},
   "outputs": [
    {
     "name": "stdout",
     "output_type": "stream",
     "text": [
      "['Queen Alexandra Range 99656' 22102 'Valid' 'LL5' 3.4 'Found' 1999.0\n",
      " -84.0 168.0 '(-84.000000, 168.000000)']\n"
     ]
    }
   ],
   "source": [
    "# Convert to numpy array\n",
    "api_meteor_data_arr = api_meteor_data.to_numpy()\n",
    "print(api_meteor_data_arr[6])"
   ]
  },
  {
   "cell_type": "code",
   "execution_count": 43,
   "metadata": {
    "scrolled": true
   },
   "outputs": [
    {
     "name": "stdout",
     "output_type": "stream",
     "text": [
      "(19.133330, 54.652670)\n",
      "Steinecke, Potsdamer Platz, Tiergarten, Mitte, Berlin, 10785, Deutschland\n",
      "19.133330, 54.652670\n",
      "محافظة ظفار, سلطنة عُمان Oman\n",
      "محافظة ظفار, سلطنة عُمان Oman\n"
     ]
    }
   ],
   "source": [
    "# Testing Geolocation conversion\n",
    "from geopy.geocoders import Nominatim\n",
    "geo_test = api_meteor_data_arr[2]\n",
    "geolocator = Nominatim(user_agent=\"api_meteor_data_arr\")\n",
    "print(geo_test[9])\n",
    "\n",
    "location = geolocator.reverse(\"52.509669, 13.376294\")\n",
    "print(location)\n",
    "coor = str(geo_test[9])[1:-1]\n",
    "print(coor)\n",
    "location = geolocator.reverse(coor)\n",
    "print(location)\n",
    "print(location.address)"
   ]
  },
  {
   "cell_type": "code",
   "execution_count": null,
   "metadata": {},
   "outputs": [],
   "source": []
  }
 ],
 "metadata": {
  "kernelspec": {
   "display_name": "Python 3",
   "language": "python",
   "name": "python3"
  },
  "language_info": {
   "codemirror_mode": {
    "name": "ipython",
    "version": 3
   },
   "file_extension": ".py",
   "mimetype": "text/x-python",
   "name": "python",
   "nbconvert_exporter": "python",
   "pygments_lexer": "ipython3",
   "version": "3.7.6"
  }
 },
 "nbformat": 4,
 "nbformat_minor": 4
}
