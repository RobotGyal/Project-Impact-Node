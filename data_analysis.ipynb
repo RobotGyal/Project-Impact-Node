{
 "cells": [
  {
   "cell_type": "markdown",
   "metadata": {},
   "source": [
    "# Analyzing Meteorite Dataset "
   ]
  },
  {
   "cell_type": "code",
   "execution_count": 3,
   "metadata": {},
   "outputs": [],
   "source": [
    "# imports\n",
    "import numpy as np\n",
    "import pandas as pd\n",
    "import matplotlib.pyplot as plt\n",
    "import seaborn as sns\n",
    "import timeit   # for testing code runtime"
   ]
  },
  {
   "cell_type": "code",
   "execution_count": 15,
   "metadata": {},
   "outputs": [
    {
     "name": "stdout",
     "output_type": "stream",
     "text": [
      "             name     id nametype              recclass      mass   fall  \\\n",
      "0          Aachen      1    Valid                    L5      21.0   Fell   \n",
      "1          Aarhus      2    Valid                    H6     720.0   Fell   \n",
      "2            Abee      6    Valid                   EH4  107000.0   Fell   \n",
      "3        Acapulco     10    Valid           Acapulcoite    1914.0   Fell   \n",
      "4         Achiras    370    Valid                    L6     780.0   Fell   \n",
      "...           ...    ...      ...                   ...       ...    ...   \n",
      "45711  Zillah 002  31356    Valid               Eucrite     172.0  Found   \n",
      "45712      Zinder  30409    Valid  Pallasite, ungrouped      46.0  Found   \n",
      "45713        Zlin  30410    Valid                    H4       3.3  Found   \n",
      "45714   Zubkovsky  31357    Valid                    L6    2167.0  Found   \n",
      "45715  Zulu Queen  30414    Valid                  L3.7     200.0  Found   \n",
      "\n",
      "         year    reclat    reclong               GeoLocation  \n",
      "0      1880.0  50.77500    6.08333     (50.775000, 6.083330)  \n",
      "1      1951.0  56.18333   10.23333    (56.183330, 10.233330)  \n",
      "2      1952.0  54.21667 -113.00000  (54.216670, -113.000000)  \n",
      "3      1976.0  16.88333  -99.90000   (16.883330, -99.900000)  \n",
      "4      1902.0 -33.16667  -64.95000  (-33.166670, -64.950000)  \n",
      "...       ...       ...        ...                       ...  \n",
      "45711  1990.0  29.03700   17.01850    (29.037000, 17.018500)  \n",
      "45712  1999.0  13.78333    8.96667     (13.783330, 8.966670)  \n",
      "45713  1939.0  49.25000   17.66667    (49.250000, 17.666670)  \n",
      "45714  2003.0  49.78917   41.50460    (49.789170, 41.504600)  \n",
      "45715  1976.0  33.98333 -115.68333  (33.983330, -115.683330)  \n",
      "\n",
      "[45716 rows x 10 columns]\n",
      "\n",
      "\n",
      "\n",
      "\n",
      "<class 'pandas.core.frame.DataFrame'>\n",
      "RangeIndex: 45716 entries, 0 to 45715\n",
      "Data columns (total 10 columns):\n",
      " #   Column       Non-Null Count  Dtype  \n",
      "---  ------       --------------  -----  \n",
      " 0   name         45716 non-null  object \n",
      " 1   id           45716 non-null  int64  \n",
      " 2   nametype     45716 non-null  object \n",
      " 3   recclass     45716 non-null  object \n",
      " 4   mass         45585 non-null  float64\n",
      " 5   fall         45716 non-null  object \n",
      " 6   year         45428 non-null  float64\n",
      " 7   reclat       38401 non-null  float64\n",
      " 8   reclong      38401 non-null  float64\n",
      " 9   GeoLocation  38401 non-null  object \n",
      "dtypes: float64(4), int64(1), object(5)\n",
      "memory usage: 3.5+ MB\n",
      "\n",
      "\n",
      "\n",
      "\n",
      "['name', 'id', 'nametype', 'recclass', 'mass', 'fall', 'year', 'reclat', 'reclong', 'GeoLocation']\n",
      "\n",
      "\n",
      "\n",
      "\n",
      "2501.0\n",
      "301.0\n",
      "1991.7721889583518\n"
     ]
    }
   ],
   "source": [
    "meteor = pd.read_csv('meteorite-landings.csv')\n",
    "meteor = pd.DataFrame(meteor)\n",
    "\n",
    "\n",
    "print(meteor)\n",
    "print(\"\\n\\n\\n\")\n",
    "\n",
    "# print(meteor.describe())\n",
    "meteor.info()\n",
    "print(\"\\n\\n\\n\")\n",
    "\n",
    "#list all column names\n",
    "print(list(meteor.columns))\n",
    "\n",
    "print(\"\\n\\n\\n\")\n",
    "# print(meteor['fall'])\n",
    "\n",
    "print(np.max(meteor['year']))\n",
    "print(np.min(meteor['year']))\n",
    "print(np.mean(meteor['year']))"
   ]
  },
  {
   "cell_type": "code",
   "execution_count": 22,
   "metadata": {},
   "outputs": [
    {
     "name": "stdout",
     "output_type": "stream",
     "text": [
      "Maximum mass:  60000000.0\n",
      "Minimum mass:  0.0\n",
      "Mean mass:  13278.078548601516\n"
     ]
    },
    {
     "data": {
      "text/plain": [
       "Text(0, 0.5, 'year')"
      ]
     },
     "execution_count": 22,
     "metadata": {},
     "output_type": "execute_result"
    },
    {
     "data": {
      "image/png": "[encoded data removed]",
      "text/plain": [
       "<Figure size 432x288 with 1 Axes>"
      ]
     },
     "metadata": {
      "needs_background": "light"
     },
     "output_type": "display_data"
    }
   ],
   "source": [
    "# # visualizing mass\n",
    "\n",
    "print(\"Maximum mass: \", np.max(meteor['mass']))\n",
    "print(\"Minimum mass: \", np.min(meteor['mass']))\n",
    "print(\"Mean mass: \",np.mean(meteor['mass']))\n",
    "\n",
    "\n",
    "# create a figure and axis \n",
    "fig, ax = plt.subplots() \n",
    "\n",
    "\n",
    "# scatter the sepal_length against the sepal_width\n",
    "ax.scatter(meteor['mass'], meteor['year'])\n",
    "# set a title and labels\n",
    "ax.set_title('Meteor Dataset (mass vs year)')\n",
    "ax.set_xlabel('mass')\n",
    "ax.set_ylabel('year')"
   ]
  },
  {
   "cell_type": "code",
   "execution_count": 4,
   "metadata": {},
   "outputs": [
    {
     "name": "stdout",
     "output_type": "stream",
     "text": [
      "0.017282004909999385\n"
     ]
    }
   ],
   "source": [
    "# Testing a time analysis function\n",
    "import timeit\n",
    "code_to_test = \"\"\"\n",
    "a = range(100000)\n",
    "b = []\n",
    "for i in a:\n",
    "    b.append(i*2)\n",
    "\"\"\"\n",
    "elapsed_time = timeit.timeit(code_to_test, number=100)/100\n",
    "print(elapsed_time)"
   ]
  },
  {
   "cell_type": "code",
   "execution_count": null,
   "metadata": {},
   "outputs": [],
   "source": [
    "\n",
    "bar_chart_time=\"\"\"\n",
    "# create a figure and axis \n",
    "fig, ax = plt.subplots() \n",
    "\n",
    "\n",
    "# scatter the sepal_length against the sepal_width\n",
    "ax.scatter(meteor['mass'], meteor['year'])\n",
    "# set a title and labels\n",
    "ax.set_title('Meteor Dataset (mass vs year)')\n",
    "ax.set_xlabel('mass')\n",
    "ax.set_ylabel('year')\n",
    "\"\"\""
   ]
  }
 ],
 "metadata": {
  "kernelspec": {
   "display_name": "Python 3",
   "language": "python",
   "name": "python3"
  },
  "language_info": {
   "codemirror_mode": {
    "name": "ipython",
    "version": 3
   },
   "file_extension": ".py",
   "mimetype": "text/x-python",
   "name": "python",
   "nbconvert_exporter": "python",
   "pygments_lexer": "ipython3",
   "version": "3.7.6"
  }
 },
 "nbformat": 4,
 "nbformat_minor": 4
}
